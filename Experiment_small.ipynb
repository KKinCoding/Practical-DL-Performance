{
  "cells": [
    {
      "cell_type": "code",
      "execution_count": 76,
      "id": "c2be70e5",
      "metadata": {
        "colab": {
          "base_uri": "https://localhost:8080/"
        },
        "id": "c2be70e5",
        "outputId": "3c46a233-5925-40a2-821b-fb0c287862e4"
      },
      "outputs": [
        {
          "output_type": "stream",
          "name": "stdout",
          "text": [
            "Looking in indexes: https://pypi.org/simple, https://us-python.pkg.dev/colab-wheels/public/simple/\n",
            "Requirement already satisfied: yfinance in /usr/local/lib/python3.8/dist-packages (0.1.90)\n",
            "Requirement already satisfied: lxml>=4.9.1 in /usr/local/lib/python3.8/dist-packages (from yfinance) (4.9.1)\n",
            "Requirement already satisfied: appdirs>=1.4.4 in /usr/local/lib/python3.8/dist-packages (from yfinance) (1.4.4)\n",
            "Requirement already satisfied: pandas>=1.3.0 in /usr/local/lib/python3.8/dist-packages (from yfinance) (1.3.5)\n",
            "Requirement already satisfied: numpy>=1.16.5 in /usr/local/lib/python3.8/dist-packages (from yfinance) (1.21.6)\n",
            "Requirement already satisfied: multitasking>=0.0.7 in /usr/local/lib/python3.8/dist-packages (from yfinance) (0.0.11)\n",
            "Requirement already satisfied: requests>=2.26 in /usr/local/lib/python3.8/dist-packages (from yfinance) (2.28.1)\n",
            "Requirement already satisfied: pytz>=2017.3 in /usr/local/lib/python3.8/dist-packages (from pandas>=1.3.0->yfinance) (2022.6)\n",
            "Requirement already satisfied: python-dateutil>=2.7.3 in /usr/local/lib/python3.8/dist-packages (from pandas>=1.3.0->yfinance) (2.8.2)\n",
            "Requirement already satisfied: six>=1.5 in /usr/local/lib/python3.8/dist-packages (from python-dateutil>=2.7.3->pandas>=1.3.0->yfinance) (1.15.0)\n",
            "Requirement already satisfied: urllib3<1.27,>=1.21.1 in /usr/local/lib/python3.8/dist-packages (from requests>=2.26->yfinance) (1.24.3)\n",
            "Requirement already satisfied: charset-normalizer<3,>=2 in /usr/local/lib/python3.8/dist-packages (from requests>=2.26->yfinance) (2.1.1)\n",
            "Requirement already satisfied: idna<4,>=2.5 in /usr/local/lib/python3.8/dist-packages (from requests>=2.26->yfinance) (2.10)\n",
            "Requirement already satisfied: certifi>=2017.4.17 in /usr/local/lib/python3.8/dist-packages (from requests>=2.26->yfinance) (2022.9.24)\n"
          ]
        }
      ],
      "source": [
        "! pip install yfinance\n",
        "import yfinance as yf\n",
        "import pandas as pd\n",
        "import matplotlib.pyplot as plt\n",
        "\n",
        "import math\n",
        "import numpy as np\n",
        "import statistics as stats"
      ]
    },
    {
      "cell_type": "code",
      "execution_count": 77,
      "id": "667a125b",
      "metadata": {
        "id": "667a125b"
      },
      "outputs": [],
      "source": [
        "Portfolio_tickers = ['AVGO', 'COST', 'FDS', 'FTNT', 'ORLY', 'REGN', 'TMO', 'TSLA', 'UNH']"
      ]
    },
    {
      "cell_type": "code",
      "execution_count": 78,
      "id": "c4ae47de",
      "metadata": {
        "id": "c4ae47de"
      },
      "outputs": [],
      "source": [
        "Long_tickers = ['CPB', 'K']"
      ]
    },
    {
      "cell_type": "code",
      "execution_count": 79,
      "id": "d2f1d416",
      "metadata": {
        "colab": {
          "base_uri": "https://localhost:8080/",
          "height": 467
        },
        "id": "d2f1d416",
        "outputId": "6ff9677b-1c5a-4d37-dad8-03be050b8719"
      },
      "outputs": [
        {
          "output_type": "stream",
          "name": "stdout",
          "text": [
            "[*********************100%***********************]  9 of 9 completed\n"
          ]
        },
        {
          "output_type": "execute_result",
          "data": {
            "text/plain": [
              "                  AVGO        COST         FDS       FTNT        ORLY  \\\n",
              "Date                                                                    \n",
              "2021-05-03  430.409485  375.486542  337.009064  40.636002  554.960022   \n",
              "2021-05-04  425.054962  371.497284  340.496857  41.355999  559.880005   \n",
              "2021-05-05  424.376007  368.735443  331.580475  41.875999  560.090027   \n",
              "2021-05-06  428.917816  378.891815  333.068176  41.301998  561.219971   \n",
              "2021-05-07  432.742462  380.436005  332.073090  42.354000  562.320007   \n",
              "...                ...         ...         ...        ...         ...   \n",
              "2022-07-05  472.339355  486.540375  394.234650  59.000000  647.510010   \n",
              "2022-07-06  478.596863  490.914917  400.250610  59.869999  657.750000   \n",
              "2022-07-07  494.394440  493.206818  400.250610  61.619999  661.619995   \n",
              "2022-07-08  494.543182  499.773621  400.031494  62.700001  657.880005   \n",
              "2022-07-11  478.844788  497.142883  402.282501  62.279999  655.299988   \n",
              "\n",
              "                  REGN         TMO        TSLA         UNH  \n",
              "Date                                                        \n",
              "2021-05-03  488.619995  465.684509  228.300003  396.614746  \n",
              "2021-05-04  485.179993  463.592133  224.533340  401.930267  \n",
              "2021-05-05  482.420013  466.073090  223.646667  403.063751  \n",
              "2021-05-06  498.679993  468.434540  221.179993  405.477264  \n",
              "2021-05-07  496.750000  466.750641  224.123337  408.095978  \n",
              "...                ...         ...         ...         ...  \n",
              "2022-07-05  596.559998  544.491882  233.066666  502.111816  \n",
              "2022-07-06  594.900024  555.450195  231.733337  512.099609  \n",
              "2022-07-07  607.450012  553.172607  244.543335  511.195251  \n",
              "2022-07-08  621.570007  553.122742  250.763336  515.418945  \n",
              "2022-07-11  614.460022  557.438171  234.343338  513.749329  \n",
              "\n",
              "[300 rows x 9 columns]"
            ],
            "text/html": [
              "\n",
              "  <div id=\"df-646bab0e-f72e-4c0a-80b1-48c1b30e6ed9\">\n",
              "    <div class=\"colab-df-container\">\n",
              "      <div>\n",
              "<style scoped>\n",
              "    .dataframe tbody tr th:only-of-type {\n",
              "        vertical-align: middle;\n",
              "    }\n",
              "\n",
              "    .dataframe tbody tr th {\n",
              "        vertical-align: top;\n",
              "    }\n",
              "\n",
              "    .dataframe thead th {\n",
              "        text-align: right;\n",
              "    }\n",
              "</style>\n",
              "<table border=\"1\" class=\"dataframe\">\n",
              "  <thead>\n",
              "    <tr style=\"text-align: right;\">\n",
              "      <th></th>\n",
              "      <th>AVGO</th>\n",
              "      <th>COST</th>\n",
              "      <th>FDS</th>\n",
              "      <th>FTNT</th>\n",
              "      <th>ORLY</th>\n",
              "      <th>REGN</th>\n",
              "      <th>TMO</th>\n",
              "      <th>TSLA</th>\n",
              "      <th>UNH</th>\n",
              "    </tr>\n",
              "    <tr>\n",
              "      <th>Date</th>\n",
              "      <th></th>\n",
              "      <th></th>\n",
              "      <th></th>\n",
              "      <th></th>\n",
              "      <th></th>\n",
              "      <th></th>\n",
              "      <th></th>\n",
              "      <th></th>\n",
              "      <th></th>\n",
              "    </tr>\n",
              "  </thead>\n",
              "  <tbody>\n",
              "    <tr>\n",
              "      <th>2021-05-03</th>\n",
              "      <td>430.409485</td>\n",
              "      <td>375.486542</td>\n",
              "      <td>337.009064</td>\n",
              "      <td>40.636002</td>\n",
              "      <td>554.960022</td>\n",
              "      <td>488.619995</td>\n",
              "      <td>465.684509</td>\n",
              "      <td>228.300003</td>\n",
              "      <td>396.614746</td>\n",
              "    </tr>\n",
              "    <tr>\n",
              "      <th>2021-05-04</th>\n",
              "      <td>425.054962</td>\n",
              "      <td>371.497284</td>\n",
              "      <td>340.496857</td>\n",
              "      <td>41.355999</td>\n",
              "      <td>559.880005</td>\n",
              "      <td>485.179993</td>\n",
              "      <td>463.592133</td>\n",
              "      <td>224.533340</td>\n",
              "      <td>401.930267</td>\n",
              "    </tr>\n",
              "    <tr>\n",
              "      <th>2021-05-05</th>\n",
              "      <td>424.376007</td>\n",
              "      <td>368.735443</td>\n",
              "      <td>331.580475</td>\n",
              "      <td>41.875999</td>\n",
              "      <td>560.090027</td>\n",
              "      <td>482.420013</td>\n",
              "      <td>466.073090</td>\n",
              "      <td>223.646667</td>\n",
              "      <td>403.063751</td>\n",
              "    </tr>\n",
              "    <tr>\n",
              "      <th>2021-05-06</th>\n",
              "      <td>428.917816</td>\n",
              "      <td>378.891815</td>\n",
              "      <td>333.068176</td>\n",
              "      <td>41.301998</td>\n",
              "      <td>561.219971</td>\n",
              "      <td>498.679993</td>\n",
              "      <td>468.434540</td>\n",
              "      <td>221.179993</td>\n",
              "      <td>405.477264</td>\n",
              "    </tr>\n",
              "    <tr>\n",
              "      <th>2021-05-07</th>\n",
              "      <td>432.742462</td>\n",
              "      <td>380.436005</td>\n",
              "      <td>332.073090</td>\n",
              "      <td>42.354000</td>\n",
              "      <td>562.320007</td>\n",
              "      <td>496.750000</td>\n",
              "      <td>466.750641</td>\n",
              "      <td>224.123337</td>\n",
              "      <td>408.095978</td>\n",
              "    </tr>\n",
              "    <tr>\n",
              "      <th>...</th>\n",
              "      <td>...</td>\n",
              "      <td>...</td>\n",
              "      <td>...</td>\n",
              "      <td>...</td>\n",
              "      <td>...</td>\n",
              "      <td>...</td>\n",
              "      <td>...</td>\n",
              "      <td>...</td>\n",
              "      <td>...</td>\n",
              "    </tr>\n",
              "    <tr>\n",
              "      <th>2022-07-05</th>\n",
              "      <td>472.339355</td>\n",
              "      <td>486.540375</td>\n",
              "      <td>394.234650</td>\n",
              "      <td>59.000000</td>\n",
              "      <td>647.510010</td>\n",
              "      <td>596.559998</td>\n",
              "      <td>544.491882</td>\n",
              "      <td>233.066666</td>\n",
              "      <td>502.111816</td>\n",
              "    </tr>\n",
              "    <tr>\n",
              "      <th>2022-07-06</th>\n",
              "      <td>478.596863</td>\n",
              "      <td>490.914917</td>\n",
              "      <td>400.250610</td>\n",
              "      <td>59.869999</td>\n",
              "      <td>657.750000</td>\n",
              "      <td>594.900024</td>\n",
              "      <td>555.450195</td>\n",
              "      <td>231.733337</td>\n",
              "      <td>512.099609</td>\n",
              "    </tr>\n",
              "    <tr>\n",
              "      <th>2022-07-07</th>\n",
              "      <td>494.394440</td>\n",
              "      <td>493.206818</td>\n",
              "      <td>400.250610</td>\n",
              "      <td>61.619999</td>\n",
              "      <td>661.619995</td>\n",
              "      <td>607.450012</td>\n",
              "      <td>553.172607</td>\n",
              "      <td>244.543335</td>\n",
              "      <td>511.195251</td>\n",
              "    </tr>\n",
              "    <tr>\n",
              "      <th>2022-07-08</th>\n",
              "      <td>494.543182</td>\n",
              "      <td>499.773621</td>\n",
              "      <td>400.031494</td>\n",
              "      <td>62.700001</td>\n",
              "      <td>657.880005</td>\n",
              "      <td>621.570007</td>\n",
              "      <td>553.122742</td>\n",
              "      <td>250.763336</td>\n",
              "      <td>515.418945</td>\n",
              "    </tr>\n",
              "    <tr>\n",
              "      <th>2022-07-11</th>\n",
              "      <td>478.844788</td>\n",
              "      <td>497.142883</td>\n",
              "      <td>402.282501</td>\n",
              "      <td>62.279999</td>\n",
              "      <td>655.299988</td>\n",
              "      <td>614.460022</td>\n",
              "      <td>557.438171</td>\n",
              "      <td>234.343338</td>\n",
              "      <td>513.749329</td>\n",
              "    </tr>\n",
              "  </tbody>\n",
              "</table>\n",
              "<p>300 rows × 9 columns</p>\n",
              "</div>\n",
              "      <button class=\"colab-df-convert\" onclick=\"convertToInteractive('df-646bab0e-f72e-4c0a-80b1-48c1b30e6ed9')\"\n",
              "              title=\"Convert this dataframe to an interactive table.\"\n",
              "              style=\"display:none;\">\n",
              "        \n",
              "  <svg xmlns=\"http://www.w3.org/2000/svg\" height=\"24px\"viewBox=\"0 0 24 24\"\n",
              "       width=\"24px\">\n",
              "    <path d=\"M0 0h24v24H0V0z\" fill=\"none\"/>\n",
              "    <path d=\"M18.56 5.44l.94 2.06.94-2.06 2.06-.94-2.06-.94-.94-2.06-.94 2.06-2.06.94zm-11 1L8.5 8.5l.94-2.06 2.06-.94-2.06-.94L8.5 2.5l-.94 2.06-2.06.94zm10 10l.94 2.06.94-2.06 2.06-.94-2.06-.94-.94-2.06-.94 2.06-2.06.94z\"/><path d=\"M17.41 7.96l-1.37-1.37c-.4-.4-.92-.59-1.43-.59-.52 0-1.04.2-1.43.59L10.3 9.45l-7.72 7.72c-.78.78-.78 2.05 0 2.83L4 21.41c.39.39.9.59 1.41.59.51 0 1.02-.2 1.41-.59l7.78-7.78 2.81-2.81c.8-.78.8-2.07 0-2.86zM5.41 20L4 18.59l7.72-7.72 1.47 1.35L5.41 20z\"/>\n",
              "  </svg>\n",
              "      </button>\n",
              "      \n",
              "  <style>\n",
              "    .colab-df-container {\n",
              "      display:flex;\n",
              "      flex-wrap:wrap;\n",
              "      gap: 12px;\n",
              "    }\n",
              "\n",
              "    .colab-df-convert {\n",
              "      background-color: #E8F0FE;\n",
              "      border: none;\n",
              "      border-radius: 50%;\n",
              "      cursor: pointer;\n",
              "      display: none;\n",
              "      fill: #1967D2;\n",
              "      height: 32px;\n",
              "      padding: 0 0 0 0;\n",
              "      width: 32px;\n",
              "    }\n",
              "\n",
              "    .colab-df-convert:hover {\n",
              "      background-color: #E2EBFA;\n",
              "      box-shadow: 0px 1px 2px rgba(60, 64, 67, 0.3), 0px 1px 3px 1px rgba(60, 64, 67, 0.15);\n",
              "      fill: #174EA6;\n",
              "    }\n",
              "\n",
              "    [theme=dark] .colab-df-convert {\n",
              "      background-color: #3B4455;\n",
              "      fill: #D2E3FC;\n",
              "    }\n",
              "\n",
              "    [theme=dark] .colab-df-convert:hover {\n",
              "      background-color: #434B5C;\n",
              "      box-shadow: 0px 1px 3px 1px rgba(0, 0, 0, 0.15);\n",
              "      filter: drop-shadow(0px 1px 2px rgba(0, 0, 0, 0.3));\n",
              "      fill: #FFFFFF;\n",
              "    }\n",
              "  </style>\n",
              "\n",
              "      <script>\n",
              "        const buttonEl =\n",
              "          document.querySelector('#df-646bab0e-f72e-4c0a-80b1-48c1b30e6ed9 button.colab-df-convert');\n",
              "        buttonEl.style.display =\n",
              "          google.colab.kernel.accessAllowed ? 'block' : 'none';\n",
              "\n",
              "        async function convertToInteractive(key) {\n",
              "          const element = document.querySelector('#df-646bab0e-f72e-4c0a-80b1-48c1b30e6ed9');\n",
              "          const dataTable =\n",
              "            await google.colab.kernel.invokeFunction('convertToInteractive',\n",
              "                                                     [key], {});\n",
              "          if (!dataTable) return;\n",
              "\n",
              "          const docLinkHtml = 'Like what you see? Visit the ' +\n",
              "            '<a target=\"_blank\" href=https://colab.research.google.com/notebooks/data_table.ipynb>data table notebook</a>'\n",
              "            + ' to learn more about interactive tables.';\n",
              "          element.innerHTML = '';\n",
              "          dataTable['output_type'] = 'display_data';\n",
              "          await google.colab.output.renderOutput(dataTable, element);\n",
              "          const docLink = document.createElement('div');\n",
              "          docLink.innerHTML = docLinkHtml;\n",
              "          element.appendChild(docLink);\n",
              "        }\n",
              "      </script>\n",
              "    </div>\n",
              "  </div>\n",
              "  "
            ]
          },
          "metadata": {},
          "execution_count": 79
        }
      ],
      "source": [
        "Portfolio = yf.download(Portfolio_tickers, start='2021-05-03', end='2022-07-12')['Adj Close']\n",
        "Portfolio"
      ]
    },
    {
      "cell_type": "code",
      "execution_count": 80,
      "id": "dafe454a",
      "metadata": {
        "colab": {
          "base_uri": "https://localhost:8080/"
        },
        "id": "dafe454a",
        "outputId": "59a456da-10ad-44ef-9295-606da43760da"
      },
      "outputs": [
        {
          "output_type": "stream",
          "name": "stdout",
          "text": [
            "[*********************100%***********************]  2 of 2 completed\n"
          ]
        }
      ],
      "source": [
        "Long = yf.download(Long_tickers, start='2021-05-03', end='2022-07-12')['Adj Close']\n",
        "CPB = Long[['CPB']]\n",
        "K = Long[['K']]"
      ]
    },
    {
      "cell_type": "code",
      "execution_count": 81,
      "id": "ee29c835",
      "metadata": {
        "colab": {
          "base_uri": "https://localhost:8080/",
          "height": 450
        },
        "id": "ee29c835",
        "outputId": "ed2d61ab-4906-4e66-a3e7-b8e6e67f27a4"
      },
      "outputs": [
        {
          "output_type": "execute_result",
          "data": {
            "text/plain": [
              "                  AVGO        COST         FDS       FTNT        ORLY  \\\n",
              "Date                                                                    \n",
              "2021-05-03  430.409485  375.486542  337.009064  40.636002  554.960022   \n",
              "2021-05-04  425.054962  371.497284  340.496857  41.355999  559.880005   \n",
              "2021-05-05  424.376007  368.735443  331.580475  41.875999  560.090027   \n",
              "2021-05-06  428.917816  378.891815  333.068176  41.301998  561.219971   \n",
              "2021-05-07  432.742462  380.436005  332.073090  42.354000  562.320007   \n",
              "...                ...         ...         ...        ...         ...   \n",
              "2022-07-05  472.339355  486.540375  394.234650  59.000000  647.510010   \n",
              "2022-07-06  478.596863  490.914917  400.250610  59.869999  657.750000   \n",
              "2022-07-07  494.394440  493.206818  400.250610  61.619999  661.619995   \n",
              "2022-07-08  494.543182  499.773621  400.031494  62.700001  657.880005   \n",
              "2022-07-11  478.844788  497.142883  402.282501  62.279999  655.299988   \n",
              "\n",
              "                  REGN         TMO        TSLA         UNH        CPB  \\\n",
              "Date                                                                    \n",
              "2021-05-03  488.619995  465.684509  228.300003  396.614746  46.084915   \n",
              "2021-05-04  485.179993  463.592133  224.533340  401.930267  45.942097   \n",
              "2021-05-05  482.420013  466.073090  223.646667  403.063751  46.513390   \n",
              "2021-05-06  498.679993  468.434540  221.179993  405.477264  47.436996   \n",
              "2021-05-07  496.750000  466.750641  224.123337  408.095978  47.179913   \n",
              "...                ...         ...         ...         ...        ...   \n",
              "2022-07-05  596.559998  544.491882  233.066666  502.111816  47.511387   \n",
              "2022-07-06  594.900024  555.450195  231.733337  512.099609  47.987690   \n",
              "2022-07-07  607.450012  553.172607  244.543335  511.195251  48.196072   \n",
              "2022-07-08  621.570007  553.122742  250.763336  515.418945  48.205997   \n",
              "2022-07-11  614.460022  557.438171  234.343338  513.749329  48.364765   \n",
              "\n",
              "                    K  \n",
              "Date                   \n",
              "2021-05-03  59.184647  \n",
              "2021-05-04  58.798801  \n",
              "2021-05-05  59.354042  \n",
              "2021-05-06  63.551266  \n",
              "2021-05-07  63.005440  \n",
              "...               ...  \n",
              "2022-07-05  71.103302  \n",
              "2022-07-06  71.575554  \n",
              "2022-07-07  71.664101  \n",
              "2022-07-08  71.349266  \n",
              "2022-07-11  71.585396  \n",
              "\n",
              "[300 rows x 11 columns]"
            ],
            "text/html": [
              "\n",
              "  <div id=\"df-ce5680ef-49d3-4c65-a9da-452eee85367c\">\n",
              "    <div class=\"colab-df-container\">\n",
              "      <div>\n",
              "<style scoped>\n",
              "    .dataframe tbody tr th:only-of-type {\n",
              "        vertical-align: middle;\n",
              "    }\n",
              "\n",
              "    .dataframe tbody tr th {\n",
              "        vertical-align: top;\n",
              "    }\n",
              "\n",
              "    .dataframe thead th {\n",
              "        text-align: right;\n",
              "    }\n",
              "</style>\n",
              "<table border=\"1\" class=\"dataframe\">\n",
              "  <thead>\n",
              "    <tr style=\"text-align: right;\">\n",
              "      <th></th>\n",
              "      <th>AVGO</th>\n",
              "      <th>COST</th>\n",
              "      <th>FDS</th>\n",
              "      <th>FTNT</th>\n",
              "      <th>ORLY</th>\n",
              "      <th>REGN</th>\n",
              "      <th>TMO</th>\n",
              "      <th>TSLA</th>\n",
              "      <th>UNH</th>\n",
              "      <th>CPB</th>\n",
              "      <th>K</th>\n",
              "    </tr>\n",
              "    <tr>\n",
              "      <th>Date</th>\n",
              "      <th></th>\n",
              "      <th></th>\n",
              "      <th></th>\n",
              "      <th></th>\n",
              "      <th></th>\n",
              "      <th></th>\n",
              "      <th></th>\n",
              "      <th></th>\n",
              "      <th></th>\n",
              "      <th></th>\n",
              "      <th></th>\n",
              "    </tr>\n",
              "  </thead>\n",
              "  <tbody>\n",
              "    <tr>\n",
              "      <th>2021-05-03</th>\n",
              "      <td>430.409485</td>\n",
              "      <td>375.486542</td>\n",
              "      <td>337.009064</td>\n",
              "      <td>40.636002</td>\n",
              "      <td>554.960022</td>\n",
              "      <td>488.619995</td>\n",
              "      <td>465.684509</td>\n",
              "      <td>228.300003</td>\n",
              "      <td>396.614746</td>\n",
              "      <td>46.084915</td>\n",
              "      <td>59.184647</td>\n",
              "    </tr>\n",
              "    <tr>\n",
              "      <th>2021-05-04</th>\n",
              "      <td>425.054962</td>\n",
              "      <td>371.497284</td>\n",
              "      <td>340.496857</td>\n",
              "      <td>41.355999</td>\n",
              "      <td>559.880005</td>\n",
              "      <td>485.179993</td>\n",
              "      <td>463.592133</td>\n",
              "      <td>224.533340</td>\n",
              "      <td>401.930267</td>\n",
              "      <td>45.942097</td>\n",
              "      <td>58.798801</td>\n",
              "    </tr>\n",
              "    <tr>\n",
              "      <th>2021-05-05</th>\n",
              "      <td>424.376007</td>\n",
              "      <td>368.735443</td>\n",
              "      <td>331.580475</td>\n",
              "      <td>41.875999</td>\n",
              "      <td>560.090027</td>\n",
              "      <td>482.420013</td>\n",
              "      <td>466.073090</td>\n",
              "      <td>223.646667</td>\n",
              "      <td>403.063751</td>\n",
              "      <td>46.513390</td>\n",
              "      <td>59.354042</td>\n",
              "    </tr>\n",
              "    <tr>\n",
              "      <th>2021-05-06</th>\n",
              "      <td>428.917816</td>\n",
              "      <td>378.891815</td>\n",
              "      <td>333.068176</td>\n",
              "      <td>41.301998</td>\n",
              "      <td>561.219971</td>\n",
              "      <td>498.679993</td>\n",
              "      <td>468.434540</td>\n",
              "      <td>221.179993</td>\n",
              "      <td>405.477264</td>\n",
              "      <td>47.436996</td>\n",
              "      <td>63.551266</td>\n",
              "    </tr>\n",
              "    <tr>\n",
              "      <th>2021-05-07</th>\n",
              "      <td>432.742462</td>\n",
              "      <td>380.436005</td>\n",
              "      <td>332.073090</td>\n",
              "      <td>42.354000</td>\n",
              "      <td>562.320007</td>\n",
              "      <td>496.750000</td>\n",
              "      <td>466.750641</td>\n",
              "      <td>224.123337</td>\n",
              "      <td>408.095978</td>\n",
              "      <td>47.179913</td>\n",
              "      <td>63.005440</td>\n",
              "    </tr>\n",
              "    <tr>\n",
              "      <th>...</th>\n",
              "      <td>...</td>\n",
              "      <td>...</td>\n",
              "      <td>...</td>\n",
              "      <td>...</td>\n",
              "      <td>...</td>\n",
              "      <td>...</td>\n",
              "      <td>...</td>\n",
              "      <td>...</td>\n",
              "      <td>...</td>\n",
              "      <td>...</td>\n",
              "      <td>...</td>\n",
              "    </tr>\n",
              "    <tr>\n",
              "      <th>2022-07-05</th>\n",
              "      <td>472.339355</td>\n",
              "      <td>486.540375</td>\n",
              "      <td>394.234650</td>\n",
              "      <td>59.000000</td>\n",
              "      <td>647.510010</td>\n",
              "      <td>596.559998</td>\n",
              "      <td>544.491882</td>\n",
              "      <td>233.066666</td>\n",
              "      <td>502.111816</td>\n",
              "      <td>47.511387</td>\n",
              "      <td>71.103302</td>\n",
              "    </tr>\n",
              "    <tr>\n",
              "      <th>2022-07-06</th>\n",
              "      <td>478.596863</td>\n",
              "      <td>490.914917</td>\n",
              "      <td>400.250610</td>\n",
              "      <td>59.869999</td>\n",
              "      <td>657.750000</td>\n",
              "      <td>594.900024</td>\n",
              "      <td>555.450195</td>\n",
              "      <td>231.733337</td>\n",
              "      <td>512.099609</td>\n",
              "      <td>47.987690</td>\n",
              "      <td>71.575554</td>\n",
              "    </tr>\n",
              "    <tr>\n",
              "      <th>2022-07-07</th>\n",
              "      <td>494.394440</td>\n",
              "      <td>493.206818</td>\n",
              "      <td>400.250610</td>\n",
              "      <td>61.619999</td>\n",
              "      <td>661.619995</td>\n",
              "      <td>607.450012</td>\n",
              "      <td>553.172607</td>\n",
              "      <td>244.543335</td>\n",
              "      <td>511.195251</td>\n",
              "      <td>48.196072</td>\n",
              "      <td>71.664101</td>\n",
              "    </tr>\n",
              "    <tr>\n",
              "      <th>2022-07-08</th>\n",
              "      <td>494.543182</td>\n",
              "      <td>499.773621</td>\n",
              "      <td>400.031494</td>\n",
              "      <td>62.700001</td>\n",
              "      <td>657.880005</td>\n",
              "      <td>621.570007</td>\n",
              "      <td>553.122742</td>\n",
              "      <td>250.763336</td>\n",
              "      <td>515.418945</td>\n",
              "      <td>48.205997</td>\n",
              "      <td>71.349266</td>\n",
              "    </tr>\n",
              "    <tr>\n",
              "      <th>2022-07-11</th>\n",
              "      <td>478.844788</td>\n",
              "      <td>497.142883</td>\n",
              "      <td>402.282501</td>\n",
              "      <td>62.279999</td>\n",
              "      <td>655.299988</td>\n",
              "      <td>614.460022</td>\n",
              "      <td>557.438171</td>\n",
              "      <td>234.343338</td>\n",
              "      <td>513.749329</td>\n",
              "      <td>48.364765</td>\n",
              "      <td>71.585396</td>\n",
              "    </tr>\n",
              "  </tbody>\n",
              "</table>\n",
              "<p>300 rows × 11 columns</p>\n",
              "</div>\n",
              "      <button class=\"colab-df-convert\" onclick=\"convertToInteractive('df-ce5680ef-49d3-4c65-a9da-452eee85367c')\"\n",
              "              title=\"Convert this dataframe to an interactive table.\"\n",
              "              style=\"display:none;\">\n",
              "        \n",
              "  <svg xmlns=\"http://www.w3.org/2000/svg\" height=\"24px\"viewBox=\"0 0 24 24\"\n",
              "       width=\"24px\">\n",
              "    <path d=\"M0 0h24v24H0V0z\" fill=\"none\"/>\n",
              "    <path d=\"M18.56 5.44l.94 2.06.94-2.06 2.06-.94-2.06-.94-.94-2.06-.94 2.06-2.06.94zm-11 1L8.5 8.5l.94-2.06 2.06-.94-2.06-.94L8.5 2.5l-.94 2.06-2.06.94zm10 10l.94 2.06.94-2.06 2.06-.94-2.06-.94-.94-2.06-.94 2.06-2.06.94z\"/><path d=\"M17.41 7.96l-1.37-1.37c-.4-.4-.92-.59-1.43-.59-.52 0-1.04.2-1.43.59L10.3 9.45l-7.72 7.72c-.78.78-.78 2.05 0 2.83L4 21.41c.39.39.9.59 1.41.59.51 0 1.02-.2 1.41-.59l7.78-7.78 2.81-2.81c.8-.78.8-2.07 0-2.86zM5.41 20L4 18.59l7.72-7.72 1.47 1.35L5.41 20z\"/>\n",
              "  </svg>\n",
              "      </button>\n",
              "      \n",
              "  <style>\n",
              "    .colab-df-container {\n",
              "      display:flex;\n",
              "      flex-wrap:wrap;\n",
              "      gap: 12px;\n",
              "    }\n",
              "\n",
              "    .colab-df-convert {\n",
              "      background-color: #E8F0FE;\n",
              "      border: none;\n",
              "      border-radius: 50%;\n",
              "      cursor: pointer;\n",
              "      display: none;\n",
              "      fill: #1967D2;\n",
              "      height: 32px;\n",
              "      padding: 0 0 0 0;\n",
              "      width: 32px;\n",
              "    }\n",
              "\n",
              "    .colab-df-convert:hover {\n",
              "      background-color: #E2EBFA;\n",
              "      box-shadow: 0px 1px 2px rgba(60, 64, 67, 0.3), 0px 1px 3px 1px rgba(60, 64, 67, 0.15);\n",
              "      fill: #174EA6;\n",
              "    }\n",
              "\n",
              "    [theme=dark] .colab-df-convert {\n",
              "      background-color: #3B4455;\n",
              "      fill: #D2E3FC;\n",
              "    }\n",
              "\n",
              "    [theme=dark] .colab-df-convert:hover {\n",
              "      background-color: #434B5C;\n",
              "      box-shadow: 0px 1px 3px 1px rgba(0, 0, 0, 0.15);\n",
              "      filter: drop-shadow(0px 1px 2px rgba(0, 0, 0, 0.3));\n",
              "      fill: #FFFFFF;\n",
              "    }\n",
              "  </style>\n",
              "\n",
              "      <script>\n",
              "        const buttonEl =\n",
              "          document.querySelector('#df-ce5680ef-49d3-4c65-a9da-452eee85367c button.colab-df-convert');\n",
              "        buttonEl.style.display =\n",
              "          google.colab.kernel.accessAllowed ? 'block' : 'none';\n",
              "\n",
              "        async function convertToInteractive(key) {\n",
              "          const element = document.querySelector('#df-ce5680ef-49d3-4c65-a9da-452eee85367c');\n",
              "          const dataTable =\n",
              "            await google.colab.kernel.invokeFunction('convertToInteractive',\n",
              "                                                     [key], {});\n",
              "          if (!dataTable) return;\n",
              "\n",
              "          const docLinkHtml = 'Like what you see? Visit the ' +\n",
              "            '<a target=\"_blank\" href=https://colab.research.google.com/notebooks/data_table.ipynb>data table notebook</a>'\n",
              "            + ' to learn more about interactive tables.';\n",
              "          element.innerHTML = '';\n",
              "          dataTable['output_type'] = 'display_data';\n",
              "          await google.colab.output.renderOutput(dataTable, element);\n",
              "          const docLink = document.createElement('div');\n",
              "          docLink.innerHTML = docLinkHtml;\n",
              "          element.appendChild(docLink);\n",
              "        }\n",
              "      </script>\n",
              "    </div>\n",
              "  </div>\n",
              "  "
            ]
          },
          "metadata": {},
          "execution_count": 81
        }
      ],
      "source": [
        "Portfolio1 = pd.concat([Portfolio, CPB], axis=1)\n",
        "Portfolio2 = pd.concat([Portfolio, K], axis=1)\n",
        "Portfolio3 = pd.concat([Portfolio, Long], axis=1)\n",
        "Portfolio3"
      ]
    },
    {
      "cell_type": "code",
      "execution_count": 105,
      "id": "554fbe7d",
      "metadata": {
        "colab": {
          "base_uri": "https://localhost:8080/"
        },
        "id": "554fbe7d",
        "outputId": "b3330844-f87d-496a-df45-bbd5ede60348"
      },
      "outputs": [
        {
          "output_type": "stream",
          "name": "stdout",
          "text": [
            "(300, 11)\n"
          ]
        }
      ],
      "source": [
        "from sklearn.preprocessing import MinMaxScaler \n",
        "\n",
        "training_data_len = math.ceil(len(Portfolio3)* 0.8)\n",
        "temp = []\n",
        "tickers = Portfolio3.columns.values\n",
        "\n",
        "#data = Portfolio3.to_numpy().reshape(-1,11)\n",
        "scaler = MinMaxScaler(feature_range=(0,1))\n",
        "scaled_data = scaler.fit_transform(Portfolio3)\n",
        "data = scaled_data.reshape(-1,11)\n",
        "print(data.shape)\n",
        "\n",
        "#for column in Portfolio3.columns:\n",
        "#    scaler = MinMaxScaler(feature_range=(0,1))\n",
        "#    scaled_data = scaler.fit_transform(Portfolio3[column].values.reshape(-1,1))\n",
        "#    data.append(scaled_data[:, :])\n",
        "\n",
        "#data = np.array(data)\n",
        "#print(data.shape)"
      ]
    },
    {
      "cell_type": "code",
      "source": [
        "train_data = scaled_data[0: training_data_len, :]\n",
        "\n",
        "x_train = []\n",
        "y_train = []\n",
        "\n",
        "for i in range(60, len(train_data)):\n",
        "    x_train.append(train_data[i-60:i, :])\n",
        "    y_train.append(train_data[i, :])\n",
        "\n",
        "x_train, y_train = np.array(x_train), np.array(y_train)\n",
        "x_train = np.reshape(x_train, (x_train.shape[0], x_train.shape[1], x_train.shape[2]))\n",
        "print(train_data.shape)\n",
        "print(x_train.shape)\n",
        "print(y_train.shape)"
      ],
      "metadata": {
        "colab": {
          "base_uri": "https://localhost:8080/"
        },
        "id": "Ftwp2sLOE6Ja",
        "outputId": "5387a15b-b282-4571-d9ed-e9233f64bcf9"
      },
      "id": "Ftwp2sLOE6Ja",
      "execution_count": 109,
      "outputs": [
        {
          "output_type": "stream",
          "name": "stdout",
          "text": [
            "(240, 11)\n",
            "(180, 60, 11)\n",
            "(180, 11)\n"
          ]
        }
      ]
    },
    {
      "cell_type": "code",
      "source": [
        "test_data = scaled_data[training_data_len-60: , : ]\n",
        "y_test = data[training_data_len:]\n",
        "x_test = []\n",
        "\n",
        "for i in range(60, len(test_data)):\n",
        "  x_test.append(test_data[i-60:i, :])\n",
        "\n",
        "x_test = np.array(x_test)\n",
        "x_test = np.reshape(x_test, (x_test.shape[0], x_test.shape[1], x_test.shape[2]))\n",
        "\n",
        "print(test_data.shape)\n",
        "print(x_test.shape)\n",
        "print(y_test.shape)"
      ],
      "metadata": {
        "colab": {
          "base_uri": "https://localhost:8080/"
        },
        "id": "HsQkDy4nGeGN",
        "outputId": "6d2563f5-d08d-43e8-9f73-c58c2b360dd5"
      },
      "id": "HsQkDy4nGeGN",
      "execution_count": 113,
      "outputs": [
        {
          "output_type": "stream",
          "name": "stdout",
          "text": [
            "(120, 11)\n",
            "(60, 60, 11)\n",
            "(60, 11)\n"
          ]
        }
      ]
    },
    {
      "cell_type": "code",
      "execution_count": 114,
      "id": "aac14462",
      "metadata": {
        "id": "aac14462"
      },
      "outputs": [],
      "source": [
        "import tensorflow as tf\n",
        "from tensorflow import keras\n",
        "from tensorflow.keras import layers"
      ]
    },
    {
      "cell_type": "code",
      "execution_count": 122,
      "id": "b91864c5",
      "metadata": {
        "colab": {
          "base_uri": "https://localhost:8080/"
        },
        "id": "b91864c5",
        "outputId": "b79f1384-5ece-46c9-c4b5-92ffe943a168"
      },
      "outputs": [
        {
          "output_type": "stream",
          "name": "stdout",
          "text": [
            "Model: \"sequential_13\"\n",
            "_________________________________________________________________\n",
            " Layer (type)                Output Shape              Param #   \n",
            "=================================================================\n",
            " lstm_26 (LSTM)              (None, 60, 100)           44800     \n",
            "                                                                 \n",
            " lstm_27 (LSTM)              (None, 100)               80400     \n",
            "                                                                 \n",
            " dense_26 (Dense)            (None, 25)                2525      \n",
            "                                                                 \n",
            " dense_27 (Dense)            (None, 11)                286       \n",
            "                                                                 \n",
            "=================================================================\n",
            "Total params: 128,011\n",
            "Trainable params: 128,011\n",
            "Non-trainable params: 0\n",
            "_________________________________________________________________\n"
          ]
        }
      ],
      "source": [
        "model = keras.Sequential()\n",
        "model.add(layers.LSTM(100, return_sequences=True, input_shape=(x_train.shape[1], 11)))\n",
        "model.add(layers.LSTM(100, return_sequences=False))\n",
        "model.add(layers.Dense(25))\n",
        "model.add(layers.Dense(11))\n",
        "model.summary()"
      ]
    },
    {
      "cell_type": "code",
      "execution_count": 123,
      "id": "1e532aca",
      "metadata": {
        "colab": {
          "base_uri": "https://localhost:8080/"
        },
        "id": "1e532aca",
        "outputId": "88259c63-7f9a-4ddd-e6d9-8f139b74b87a"
      },
      "outputs": [
        {
          "output_type": "stream",
          "name": "stdout",
          "text": [
            "Epoch 1/3\n",
            "180/180 [==============================] - 8s 29ms/step - loss: 0.0312\n",
            "Epoch 2/3\n",
            "180/180 [==============================] - 5s 29ms/step - loss: 0.0107\n",
            "Epoch 3/3\n",
            "180/180 [==============================] - 5s 29ms/step - loss: 0.0101\n"
          ]
        },
        {
          "output_type": "execute_result",
          "data": {
            "text/plain": [
              "<keras.callbacks.History at 0x7f1207b3bc40>"
            ]
          },
          "metadata": {},
          "execution_count": 123
        }
      ],
      "source": [
        "# Compile\n",
        "model.compile(optimizer='adam', loss='mean_squared_error')\n",
        "model.fit(x_train, y_train, batch_size= 1, epochs=3)"
      ]
    },
    {
      "cell_type": "code",
      "source": [
        "predictions = model.predict(x_test)\n",
        "predictions = scaler.inverse_transform(predictions)\n",
        "print(predictions.shape)\n",
        "rmse = np.sqrt(np.mean(predictions - y_test)**2)\n",
        "rmse"
      ],
      "metadata": {
        "colab": {
          "base_uri": "https://localhost:8080/"
        },
        "id": "H1jI3phiHFcE",
        "outputId": "29f4e071-f304-4ba2-ebda-15f0be6aa968"
      },
      "id": "H1jI3phiHFcE",
      "execution_count": 124,
      "outputs": [
        {
          "output_type": "stream",
          "name": "stdout",
          "text": [
            "2/2 [==============================] - 1s 35ms/step\n",
            "(60, 11)\n"
          ]
        },
        {
          "output_type": "execute_result",
          "data": {
            "text/plain": [
              "375.51725506765456"
            ]
          },
          "metadata": {},
          "execution_count": 124
        }
      ]
    },
    {
      "cell_type": "code",
      "execution_count": 126,
      "id": "1c32cd2a",
      "metadata": {
        "colab": {
          "base_uri": "https://localhost:8080/",
          "height": 528
        },
        "id": "1c32cd2a",
        "outputId": "508e873a-e6d2-4f51-9f18-53b8a9346894"
      },
      "outputs": [
        {
          "output_type": "stream",
          "name": "stdout",
          "text": [
            "Looking in indexes: https://pypi.org/simple, https://us-python.pkg.dev/colab-wheels/public/simple/\n",
            "Collecting pyportfolioopt\n",
            "  Downloading pyportfolioopt-1.5.4-py3-none-any.whl (61 kB)\n",
            "\u001b[K     |████████████████████████████████| 61 kB 512 kB/s \n",
            "\u001b[?25hRequirement already satisfied: pandas>=0.19 in /usr/local/lib/python3.8/dist-packages (from pyportfolioopt) (1.3.5)\n",
            "Requirement already satisfied: cvxpy<2.0.0,>=1.1.10 in /usr/local/lib/python3.8/dist-packages (from pyportfolioopt) (1.2.2)\n",
            "Requirement already satisfied: scipy<2.0,>=1.3 in /usr/local/lib/python3.8/dist-packages (from pyportfolioopt) (1.7.3)\n",
            "Collecting numpy<2.0.0,>=1.22.4\n",
            "  Downloading numpy-1.23.5-cp38-cp38-manylinux_2_17_x86_64.manylinux2014_x86_64.whl (17.1 MB)\n",
            "\u001b[K     |████████████████████████████████| 17.1 MB 23.8 MB/s \n",
            "\u001b[?25hRequirement already satisfied: scs>=1.1.6 in /usr/local/lib/python3.8/dist-packages (from cvxpy<2.0.0,>=1.1.10->pyportfolioopt) (3.2.2)\n",
            "Requirement already satisfied: ecos>=2 in /usr/local/lib/python3.8/dist-packages (from cvxpy<2.0.0,>=1.1.10->pyportfolioopt) (2.0.10)\n",
            "Requirement already satisfied: osqp>=0.4.1 in /usr/local/lib/python3.8/dist-packages (from cvxpy<2.0.0,>=1.1.10->pyportfolioopt) (0.6.2.post0)\n",
            "Requirement already satisfied: qdldl in /usr/local/lib/python3.8/dist-packages (from osqp>=0.4.1->cvxpy<2.0.0,>=1.1.10->pyportfolioopt) (0.1.5.post2)\n",
            "Requirement already satisfied: pytz>=2017.3 in /usr/local/lib/python3.8/dist-packages (from pandas>=0.19->pyportfolioopt) (2022.6)\n",
            "Requirement already satisfied: python-dateutil>=2.7.3 in /usr/local/lib/python3.8/dist-packages (from pandas>=0.19->pyportfolioopt) (2.8.2)\n",
            "Requirement already satisfied: six>=1.5 in /usr/local/lib/python3.8/dist-packages (from python-dateutil>=2.7.3->pandas>=0.19->pyportfolioopt) (1.15.0)\n",
            "  Downloading numpy-1.22.4-cp38-cp38-manylinux_2_17_x86_64.manylinux2014_x86_64.whl (16.9 MB)\n",
            "\u001b[K     |████████████████████████████████| 16.9 MB 62.1 MB/s \n",
            "\u001b[?25hInstalling collected packages: numpy, pyportfolioopt\n",
            "  Attempting uninstall: numpy\n",
            "    Found existing installation: numpy 1.21.6\n",
            "    Uninstalling numpy-1.21.6:\n",
            "      Successfully uninstalled numpy-1.21.6\n",
            "Successfully installed numpy-1.22.4 pyportfolioopt-1.5.4\n"
          ]
        },
        {
          "output_type": "display_data",
          "data": {
            "application/vnd.colab-display-data+json": {
              "pip_warning": {
                "packages": [
                  "numpy"
                ]
              }
            }
          },
          "metadata": {}
        }
      ],
      "source": [
        "! pip install pyportfolioopt\n",
        "from pypfopt import risk_models\n",
        "from pypfopt import expected_returns\n",
        "from pypfopt.efficient_frontier import EfficientFrontier"
      ]
    },
    {
      "cell_type": "code",
      "execution_count": null,
      "id": "65906525",
      "metadata": {
        "id": "65906525",
        "outputId": "da45333b-4425-4a79-aace-5968ea158ee8"
      },
      "outputs": [
        {
          "data": {
            "text/plain": [
              "OrderedDict([('ANTM', 0.1215),\n",
              "             ('AVGO', 0.0637),\n",
              "             ('COST', 0.1252),\n",
              "             ('FDS', 0.0704),\n",
              "             ('FTNT', 0.1849),\n",
              "             ('ORLY', 0.04),\n",
              "             ('REGN', 0.0817),\n",
              "             ('TMO', 0.0477),\n",
              "             ('TSLA', 0.0868),\n",
              "             ('UNH', 0.1281),\n",
              "             ('CPB', 0.05)])"
            ]
          },
          "execution_count": 15,
          "metadata": {},
          "output_type": "execute_result"
        }
      ],
      "source": [
        "mu1 = expected_returns.capm_return(Port1)\n",
        "Sigma1 = risk_models.CovarianceShrinkage(Port1).ledoit_wolf()\n",
        "\n",
        "ef = EfficientFrontier(mu1, Sigma1)\n",
        "ef.max_sharpe()\n",
        "weights1 = ef.clean_weights()\n",
        "weights1"
      ]
    },
    {
      "cell_type": "code",
      "execution_count": null,
      "id": "72c2862a",
      "metadata": {
        "id": "72c2862a",
        "outputId": "aa4f6043-e6ef-4173-d2f6-e41b8bb29caa"
      },
      "outputs": [
        {
          "data": {
            "text/plain": [
              "1.1032639978653949"
            ]
          },
          "execution_count": 16,
          "metadata": {},
          "output_type": "execute_result"
        }
      ],
      "source": [
        "Portfolio1_mean = 0\n",
        "Portfolio1_var = 0\n",
        "\n",
        "for ticker in weights1.keys():\n",
        "    Portfolio1_mean += weights1[ticker]*mu1[ticker]\n",
        "\n",
        "for ticker1 in weights1.keys():\n",
        "    for ticker2 in weights1.keys():\n",
        "        Portfolio1_var += weights1[ticker1]*weights1[ticker2]*Sigma1[ticker1][ticker2]\n",
        "\n",
        "Portfolio1_std = Portfolio1_var ** (1/2)\n",
        "\n",
        "Portfolio1_sharpe = Portfolio1_mean/Portfolio1_std\n",
        "Portfolio1_sharpe"
      ]
    },
    {
      "cell_type": "code",
      "execution_count": null,
      "id": "06e79a80",
      "metadata": {
        "id": "06e79a80",
        "outputId": "7a3eb221-ede7-41eb-cbc3-eb3c713335d7"
      },
      "outputs": [
        {
          "data": {
            "text/plain": [
              "OrderedDict([('ANTM', 0.1215),\n",
              "             ('AVGO', 0.0637),\n",
              "             ('COST', 0.1252),\n",
              "             ('FDS', 0.0704),\n",
              "             ('FTNT', 0.1849),\n",
              "             ('ORLY', 0.04),\n",
              "             ('REGN', 0.0817),\n",
              "             ('TMO', 0.0477),\n",
              "             ('TSLA', 0.0868),\n",
              "             ('UNH', 0.1281),\n",
              "             ('K', 0.05)])"
            ]
          },
          "execution_count": 17,
          "metadata": {},
          "output_type": "execute_result"
        }
      ],
      "source": [
        "mu2 = expected_returns.capm_return(Port2)\n",
        "Sigma2 = risk_models.CovarianceShrinkage(Port2).ledoit_wolf()\n",
        "\n",
        "ef = EfficientFrontier(mu2, Sigma2)\n",
        "ef.max_sharpe()\n",
        "weights2 = ef.clean_weights()\n",
        "weights2"
      ]
    },
    {
      "cell_type": "code",
      "execution_count": null,
      "id": "0dfb75cd",
      "metadata": {
        "id": "0dfb75cd",
        "outputId": "bfc7f614-7a84-479b-899b-a7982cdff383"
      },
      "outputs": [
        {
          "data": {
            "text/plain": [
              "1.2138681657079045"
            ]
          },
          "execution_count": 18,
          "metadata": {},
          "output_type": "execute_result"
        }
      ],
      "source": [
        "Portfolio2_mean = 0\n",
        "Portfolio2_var = 0\n",
        "\n",
        "for ticker in weights2.keys():\n",
        "    Portfolio2_mean += weights2[ticker]*mu2[ticker]\n",
        "\n",
        "for ticker1 in weights2.keys():\n",
        "    for ticker2 in weights2.keys():\n",
        "        Portfolio2_var += weights2[ticker1]*weights2[ticker2]*Sigma2[ticker1][ticker2]\n",
        "\n",
        "Portfolio2_std = Portfolio2_var ** (1/2)\n",
        "\n",
        "Portfolio2_sharpe = Portfolio2_mean/Portfolio2_std\n",
        "Portfolio2_sharpe"
      ]
    },
    {
      "cell_type": "code",
      "execution_count": 127,
      "id": "b07b5aef",
      "metadata": {
        "colab": {
          "base_uri": "https://localhost:8080/",
          "height": 232
        },
        "id": "b07b5aef",
        "outputId": "8a2050a3-1553-40e9-8ba0-7047a51eb0fd"
      },
      "outputs": [
        {
          "output_type": "error",
          "ename": "NameError",
          "evalue": "ignored",
          "traceback": [
            "\u001b[0;31m---------------------------------------------------------------------------\u001b[0m",
            "\u001b[0;31mNameError\u001b[0m                                 Traceback (most recent call last)",
            "\u001b[0;32m<ipython-input-127-f07ed3728936>\u001b[0m in \u001b[0;36m<module>\u001b[0;34m\u001b[0m\n\u001b[0;32m----> 1\u001b[0;31m \u001b[0mmu3\u001b[0m \u001b[0;34m=\u001b[0m \u001b[0mexpected_returns\u001b[0m\u001b[0;34m.\u001b[0m\u001b[0mcapm_return\u001b[0m\u001b[0;34m(\u001b[0m\u001b[0mPort3\u001b[0m\u001b[0;34m)\u001b[0m\u001b[0;34m\u001b[0m\u001b[0;34m\u001b[0m\u001b[0m\n\u001b[0m\u001b[1;32m      2\u001b[0m \u001b[0mSigma3\u001b[0m \u001b[0;34m=\u001b[0m \u001b[0mrisk_models\u001b[0m\u001b[0;34m.\u001b[0m\u001b[0mCovarianceShrinkage\u001b[0m\u001b[0;34m(\u001b[0m\u001b[0mPort3\u001b[0m\u001b[0;34m)\u001b[0m\u001b[0;34m.\u001b[0m\u001b[0mledoit_wolf\u001b[0m\u001b[0;34m(\u001b[0m\u001b[0;34m)\u001b[0m\u001b[0;34m\u001b[0m\u001b[0;34m\u001b[0m\u001b[0m\n\u001b[1;32m      3\u001b[0m \u001b[0;34m\u001b[0m\u001b[0m\n\u001b[1;32m      4\u001b[0m \u001b[0mef\u001b[0m \u001b[0;34m=\u001b[0m \u001b[0mEfficientFrontier\u001b[0m\u001b[0;34m(\u001b[0m\u001b[0mmu3\u001b[0m\u001b[0;34m,\u001b[0m \u001b[0mSigma3\u001b[0m\u001b[0;34m)\u001b[0m\u001b[0;34m\u001b[0m\u001b[0;34m\u001b[0m\u001b[0m\n\u001b[1;32m      5\u001b[0m \u001b[0mef\u001b[0m\u001b[0;34m.\u001b[0m\u001b[0mmax_sharpe\u001b[0m\u001b[0;34m(\u001b[0m\u001b[0;34m)\u001b[0m\u001b[0;34m\u001b[0m\u001b[0;34m\u001b[0m\u001b[0m\n",
            "\u001b[0;31mNameError\u001b[0m: name 'Port3' is not defined"
          ]
        }
      ],
      "source": [
        "mu3 = expected_returns.capm_return(Port3)\n",
        "Sigma3 = risk_models.CovarianceShrinkage(Port3).ledoit_wolf()\n",
        "\n",
        "ef = EfficientFrontier(mu3, Sigma3)\n",
        "ef.max_sharpe()\n",
        "weights3 = ef.clean_weights()\n",
        "weights3"
      ]
    },
    {
      "cell_type": "code",
      "execution_count": null,
      "id": "4ff6cdc0",
      "metadata": {
        "id": "4ff6cdc0",
        "outputId": "6db991b1-707d-4973-d693-ded32f01c861"
      },
      "outputs": [
        {
          "data": {
            "text/plain": [
              "1.020457627464359"
            ]
          },
          "execution_count": 20,
          "metadata": {},
          "output_type": "execute_result"
        }
      ],
      "source": [
        "Portfolio3_mean = 0\n",
        "Portfolio3_var = 0\n",
        "\n",
        "for ticker in weights3.keys():\n",
        "    Portfolio3_mean += weights3[ticker]*mu3[ticker]\n",
        "\n",
        "for ticker1 in weights3.keys():\n",
        "    for ticker2 in weights3.keys():\n",
        "        Portfolio3_var += weights3[ticker1]*weights3[ticker2]*Sigma3[ticker1][ticker2]\n",
        "\n",
        "Portfolio3_std = Portfolio3_var ** (1/2)\n",
        "\n",
        "Portfolio3_sharpe = Portfolio3_mean/Portfolio3_std\n",
        "Portfolio3_sharpe"
      ]
    },
    {
      "cell_type": "code",
      "execution_count": null,
      "id": "5bb9d7f5",
      "metadata": {
        "id": "5bb9d7f5"
      },
      "outputs": [],
      "source": []
    }
  ],
  "metadata": {
    "kernelspec": {
      "display_name": "Python 3 (ipykernel)",
      "language": "python",
      "name": "python3"
    },
    "language_info": {
      "codemirror_mode": {
        "name": "ipython",
        "version": 3
      },
      "file_extension": ".py",
      "mimetype": "text/x-python",
      "name": "python",
      "nbconvert_exporter": "python",
      "pygments_lexer": "ipython3",
      "version": "3.10.8"
    },
    "colab": {
      "provenance": []
    }
  },
  "nbformat": 4,
  "nbformat_minor": 5
}